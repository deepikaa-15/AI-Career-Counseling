{
 "cells": [
  {
   "cell_type": "code",
   "execution_count": null,
   "metadata": {
    "colab": {
     "base_uri": "https://localhost:8080/"
    },
    "id": "CUA8WzxuQVUu",
    "outputId": "eab72100-fbb8-4ed2-effc-fa8ae3082272"
   },
   "outputs": [],
   "source": [
    "!pip install ipywidgets pandas numpy\n"
   ]
  },
  {
   "cell_type": "code",
   "execution_count": null,
   "metadata": {
    "id": "Qvd1f0koQ5LS"
   },
   "outputs": [],
   "source": [
    "import pandas as pd\n",
    "import ipywidgets as widgets\n",
    "from IPython.display import display, Markdown\n"
   ]
  },
  {
   "cell_type": "code",
   "execution_count": null,
   "metadata": {
    "id": "iY8RNxdRQ8YQ"
   },
   "outputs": [],
   "source": [
    "data = {\n",
    "    \"Interest\": [\"farming\", \"computers\", \"teaching\", \"mechanics\", \"nursing\"],\n",
    "    \"Suggested_Career\": [\n",
    "        \"Agricultural Officer, Organic Farmer, Krishi Advisor\",\n",
    "        \"Computer Operator, Data Entry, Web Developer\",\n",
    "        \"Government School Teacher, Anganwadi Worker\",\n",
    "        \"Automobile Technician, Electrician\",\n",
    "        \"ANM Nurse, Rural Health Worker\"\n",
    "    ],\n",
    "    \"Courses\": [\n",
    "        \"Free Krishi Vigyan Kendra (KVK) programs\",\n",
    "        \"PMGDISHA (Digital Literacy), NSDC coding bootcamps\",\n",
    "        \"B.Ed via IGNOU, DIET training\",\n",
    "        \"ITI Course in Motor/Mech Repair, Skill India Training\",\n",
    "        \"Health Worker Course (Govt), Nursing Diploma (IGNOU)\"\n",
    "    ]\n",
    "}\n",
    "df = pd.DataFrame(data)\n"
   ]
  },
  {
   "cell_type": "code",
   "execution_count": null,
   "metadata": {
    "id": "yRk7cv89Q-2I"
   },
   "outputs": [],
   "source": [
    "interest = widgets.Text(description=\"Interest:\")\n",
    "skills = widgets.Text(description=\"Skills:\")\n",
    "location = widgets.Text(description=\"Location:\")\n",
    "education = widgets.Dropdown(options=[\"Below 10th\", \"10th\", \"12th\", \"Graduate\", \"Postgraduate\"],\n",
    "                             description=\"Education:\")\n",
    "submit_btn = widgets.Button(description=\"Get Career Advice\", button_style='success')\n",
    "output = widgets.Output()\n"
   ]
  },
  {
   "cell_type": "code",
   "execution_count": null,
   "metadata": {
    "id": "KA1L23RuRB3J"
   },
   "outputs": [],
   "source": [
    "def generate_counseling(user_interest, user_skills, user_location, user_edu):\n",
    "    match = df[df[\"Interest\"].str.contains(user_interest.lower(), na=False)]\n",
    "    if not match.empty:\n",
    "        career = match.iloc[0][\"Suggested_Career\"]\n",
    "        course = match.iloc[0][\"Courses\"]\n",
    "    else:\n",
    "        career = \"Explore options in government jobs, online freelancing, or local entrepreneurship.\"\n",
    "        course = \"Check Skill India, PMKVY, or IGNOU for free courses.\"\n",
    "    return f\"**Career Advice**: {career}\\n\\n**Courses/Schemes**: {course}\"\n"
   ]
  },
  {
   "cell_type": "code",
   "execution_count": null,
   "metadata": {
    "id": "YWdWFDXAREL9"
   },
   "outputs": [],
   "source": [
    "def on_submit(b):\n",
    "    with output:\n",
    "        output.clear_output()\n",
    "        result = generate_counseling(\n",
    "            interest.value, skills.value, location.value, education.value\n",
    "        )\n",
    "        display(Markdown(f\"### 🎯 Career Guidance\\n{result}\"))\n",
    "\n",
    "submit_btn.on_click(on_submit)\n"
   ]
  },
  {
   "cell_type": "code",
   "execution_count": null,
   "metadata": {
    "colab": {
     "base_uri": "https://localhost:8080/",
     "height": 266,
     "referenced_widgets": [
      "b1f13083635a4478afa3bd03632e2b8b",
      "45ee329e79de4b66a4d395564b038071",
      "8ded501ee7bb4efb82b72c13d189ed0a",
      "7b0cb9ed6ab04400b73924a7aa4d4892",
      "5cb640a2db9244fe9878fbe49e0d6c4e",
      "635463886e9a4f6890880a805f3da5ac",
      "bdff11fe4e8346c4846506892ae67bbc",
      "b78b46ad900947bd8d64a492f112f9a3",
      "70557984069147709c42ba2870103ca6",
      "5071d11adfd648e0a8ac97d3d895dfd3",
      "02ceec01454541a6bd840459e18b5565",
      "41231323cfed420a8497a6c91797eb40",
      "69279c38424b472c818ec42d4482bbb1",
      "5a7cbd0b09d84dedbeafdc43fc3cb1e3",
      "6f3bb99e00314b92ad38975931e0e59b",
      "cc45045ca1a84189931bdd68f03f276d",
      "db4403fe7f8c41e7b5bcdf8fba316997",
      "e8402b4f278a49a59d55832aa702d948",
      "6878caabc80a4238b3a27fbfba2e14b9"
     ]
    },
    "id": "3q6TsDAiRG6e",
    "outputId": "8893beca-dd64-4c0a-fe80-75ee291fae74"
   },
   "outputs": [],
   "source": [
    "display(widgets.VBox([interest, skills, location, education, submit_btn, output]))\n"
   ]
  }
 ],
 "metadata": {
  "colab": {
   "provenance": []
  },
  "kernelspec": {
   "display_name": "Python 3",
   "name": "python3"
  },
  "language_info": {
   "name": "python"
  }
 },
 "nbformat": 4,
 "nbformat_minor": 0
}
